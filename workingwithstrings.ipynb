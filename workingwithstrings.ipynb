{
 "cells": [
  {
   "cell_type": "markdown",
   "id": "2972733f",
   "metadata": {},
   "source": [
    "Question1: Create a program that displays your name and complete mailing address. The address\n",
    "should be printed in the format that is normally used in the area where you live. Your\n",
    "program does not need to read any input from the user."
   ]
  },
  {
   "cell_type": "code",
   "execution_count": 3,
   "id": "af64daeb",
   "metadata": {},
   "outputs": [
    {
     "name": "stdout",
     "output_type": "stream",
     "text": [
      "Oreoluwa Akinbo \n",
      "17, Pastor Ayeni Magada, Ogun state\n"
     ]
    }
   ],
   "source": [
    "f_name = \"Oreoluwa\"\n",
    "l_name = \"Akinbo\"\n",
    "address = \"17, Pastor Ayeni Magada\"\n",
    "state = \"Ogun state\"\n",
    "print(f\"{f_name} {l_name} \\n{address}, {state}\")"
   ]
  },
  {
   "cell_type": "markdown",
   "id": "bb5a6ea8",
   "metadata": {},
   "source": [
    "Question 2: Write a program that asks the user to enter his or her name. The program should\n",
    "respond with a message that says hello to the user, using his or her name."
   ]
  },
  {
   "cell_type": "code",
   "execution_count": 9,
   "id": "4e4879ca",
   "metadata": {},
   "outputs": [
    {
     "name": "stdout",
     "output_type": "stream",
     "text": [
      "May I know your name? sam\n",
      "Hello, Sam\n"
     ]
    }
   ],
   "source": [
    "name = input(\"May I know your name? \")\n",
    "print(\"Hello, %s\" %name.title())"
   ]
  },
  {
   "cell_type": "markdown",
   "id": "389fc41e",
   "metadata": {},
   "source": [
    "Question 3: Write a program that asks the user to enter the width and length of a room. Once\n",
    "these values have been read, your program should compute and display the area of\n",
    "the room. The length and the width will be entered as floating-point numbers. Include\n",
    "units in your prompt and output message; either feet or meters, depending on which\n",
    "unit you are more comfortable working with."
   ]
  },
  {
   "cell_type": "code",
   "execution_count": 16,
   "id": "c69611d5",
   "metadata": {},
   "outputs": [
    {
     "name": "stdout",
     "output_type": "stream",
     "text": [
      "May I know the width of the room? 344.52245\n",
      "May I know the length of the room? 5664.222\n",
      "The area of the room is 1951451.64 metres\n"
     ]
    }
   ],
   "source": [
    "width = float(input(\"May I know the width of the room? \"))\n",
    "length = float(input(\"May I know the length of the room? \"))\n",
    "area = width*length\n",
    "print(\"The area of the room is %.2f metres\" %area )"
   ]
  },
  {
   "cell_type": "markdown",
   "id": "f5d608c4",
   "metadata": {},
   "source": [
    "Question 4: Create a program that reads the length and width of a farmer’s field from the user in\n",
    "feet. Display the area of the field in acres.\n",
    "\n",
    "Hint: There are 43,560 square feet in an acre."
   ]
  },
  {
   "cell_type": "code",
   "execution_count": 21,
   "id": "3a672ff2",
   "metadata": {},
   "outputs": [
    {
     "name": "stdout",
     "output_type": "stream",
     "text": [
      "May I know the width of the room (in feet)? 7889\n",
      "May I know the length of the room(in feet)? 998\n",
      "7873222.0\n",
      "The area of the room is 180.74 feet\n"
     ]
    }
   ],
   "source": [
    "width = float(input(\"May I know the width of the room (in feet)? \"))\n",
    "length = float(input(\"May I know the length of the room(in feet)? \"))\n",
    "area = width*length\n",
    "print(area)\n",
    "inacres = area/43560\n",
    "print(\"The area of the room is %.2f feet\" %inacres )"
   ]
  },
  {
   "cell_type": "markdown",
   "id": "8905baa2",
   "metadata": {},
   "source": [
    "Question 5: In many jurisdictions a small deposit is added to drink containers to encourage people\n",
    "to recycle them. In one particular jurisdiction, drink containers holding one liter or\n",
    "less have a $0.10 deposit, and drink containers holding more than one liter have a\n",
    "$0.25 deposit.\n",
    "Write a program that reads the number of containers of each size from the user.\n",
    "Your program should continue by computing and displaying the refund that will be\n",
    "received for returning those containers. Format the output so that it includes a dollar\n",
    "sign and two digits to the right of the decimal point.m "
   ]
  },
  {
   "cell_type": "code",
   "execution_count": 1,
   "id": "9386172e",
   "metadata": {},
   "outputs": [
    {
     "name": "stdout",
     "output_type": "stream",
     "text": [
      "May I know how many bottles are being returned4\n",
      "May I know how many litres is left in this bottle? 2\n",
      "May I know how many litres is left in this bottle? 1\n",
      "May I know how many litres is left in this bottle? 3\n",
      "May I know how many litres is left in this bottle? 4\n",
      "Your refund is $0.85\n"
     ]
    }
   ],
   "source": [
    "number_of_bottles = int(input(\"May I know how many bottles are being returned\"))\n",
    "refund = 0\n",
    "for x in range(number_of_bottles):\n",
    "    remnant = int(input(\"May I know how many litres is left in this bottle? \"))\n",
    "    if remnant > 1:\n",
    "        refund += 0.25\n",
    "    else:\n",
    "        refund += 0.10\n",
    "        \n",
    "print(\"Your refund is $%.2f\" %refund)"
   ]
  },
  {
   "cell_type": "markdown",
   "id": "26e95e34",
   "metadata": {},
   "source": [
    "The program that you create for this exercise will begin by reading the cost of a meal\n",
    "ordered at a restaurant from the user. Then your program will compute the tax and\n",
    "tip for the meal. Use your local tax rate when computing the amount of tax owing.\n",
    "Compute the tip as 18 percent of the meal amount (without the tax). The output from\n",
    "your program should include the tax amount, the tip amount, and the grand total for\n",
    "the meal including both the tax and the tip. Format the output so that all of the values\n",
    "are displayed using two decimal places.\n",
    "\n",
    "Solve in 17 lines"
   ]
  },
  {
   "cell_type": "code",
   "execution_count": 7,
   "id": "0cebbd27",
   "metadata": {},
   "outputs": [
    {
     "name": "stdout",
     "output_type": "stream",
     "text": [
      "May I know the cost of the meal ordered? 87\n",
      "The amount charged as tax on your meal is $8.70, $15.66 as tip. \n",
      "The total cost of the meal is $111.36\n"
     ]
    }
   ],
   "source": [
    "meal_cost = int(input('May I know the cost of the meal ordered? '))\n",
    "tax = 0.1\n",
    "tip = 0.18\n",
    "cost_after_tax = meal_cost * tax\n",
    "tipcost = tip*meal_cost\n",
    "total = meal_cost + tipcost + cost_after_tax\n",
    "print(\"The amount charged as tax on your meal is $%.2f, $%.2f as tip. \\nThe total cost of the meal is $%.2f\" %(cost_after_tax, tipcost, total))"
   ]
  },
  {
   "cell_type": "markdown",
   "id": "b15f49d3",
   "metadata": {},
   "source": [
    "Write a program that reads a positive integer, n, from the user and then displays the\n",
    "sum of all of the integers from 1 to n. The sum of the first n positive integers can be\n",
    "computed using the formula:\n",
    "sum =\n",
    "(n)(n + 1)\n",
    "2"
   ]
  },
  {
   "cell_type": "code",
   "execution_count": 19,
   "id": "040dd4aa",
   "metadata": {},
   "outputs": [
    {
     "name": "stdout",
     "output_type": "stream",
     "text": [
      "Kindly enter a positive integer to get it's sum: 4\n",
      "The sum of the positive integer 4 is 10\n"
     ]
    }
   ],
   "source": [
    "n = int(input(\"Kindly enter a positive integer to get it's sum: \"))\n",
    "if n < 1:\n",
    "    print(\"The numbe provided is not a positive integer\")\n",
    "    n = int(input(\"Kindly enter a positive integer to get it's sum: \"))\n",
    "else:\n",
    "    sums = (n)*(n + 1)\n",
    "    rsult = sums/2\n",
    "                \n",
    "print(\"The sum of the positive integer %d is %d\" %(n,rsult))"
   ]
  },
  {
   "cell_type": "markdown",
   "id": "e9a5b42b",
   "metadata": {},
   "source": [
    "Exercise 8: Widgets and Gizmos\n",
    "(15 Lines)\n",
    "An online retailer sells two products: widgets and gizmos. Each widget weighs 75\n",
    "grams. Each gizmo weighs 112 grams. Write a program that reads the number of\n",
    "widgets and the number of gizmos from the user. Then your program should compute\n",
    "and display the total weight of the parts.\n",
    "\n",
    "\n",
    "Solution below:"
   ]
  },
  {
   "cell_type": "code",
   "execution_count": 23,
   "id": "abad6faa",
   "metadata": {},
   "outputs": [
    {
     "name": "stdout",
     "output_type": "stream",
     "text": [
      "May I Know the number of widgets with you6\n",
      "May I Know the number of gizmos with you7\n",
      "The total weight of gizmos you have is 784, while widgets weigh 450.\n",
      "This weighs 352800\n"
     ]
    }
   ],
   "source": [
    "widget, gizmo = 75, 112\n",
    "\n",
    "widget_count = int(input(\"May I Know the number of widgets with you\"))\n",
    "widget_weight = widget * widget_count\n",
    "gizmo_count = int(input(\"May I Know the number of gizmos with you\"))\n",
    "gizmo_weight = gizmo * gizmo_count\n",
    "\n",
    "print(f\"The total weight of gizmos you have is {gizmo_weight}, while widgets weigh {widget_weight}.\\nThis weighs {gizmo_weight*widget_weight}\")"
   ]
  },
  {
   "cell_type": "markdown",
   "id": "fef7c0d7",
   "metadata": {},
   "source": [
    "Pretend that you have just opened a new savings account that earns 4 percent interest\n",
    "per year. The interest that you earn is paid at the end of the year, and is added to the\n",
    "balance of the savings account. Write a program that begins by reading the amount of\n",
    "money deposited into the account from the user. Then your program should compute\n",
    "and display the amount in the savings account after 1, 2, and 3 years. Display each\n",
    "amount so that it is rounded to 2 decimal places.\n",
    "\n",
    "\n"
   ]
  },
  {
   "cell_type": "code",
   "execution_count": 6,
   "id": "274103e5",
   "metadata": {},
   "outputs": [
    {
     "name": "stdout",
     "output_type": "stream",
     "text": [
      "The amount to be received after 3 years is $224972.80\n"
     ]
    }
   ],
   "source": [
    "interest_rate = 0.04\n",
    "deposit = int(input(\"May I know the amount that is to be deposited?: \")) #200,000\n",
    "years = 3\n",
    "x = 1\n",
    "\n",
    "\n",
    "while x <= years:\n",
    "    returns = interest_rate * deposit #8000\n",
    "    deposit += returns\n",
    "#    coumpount_interest = deposit + returns\n",
    "    x += 1\n",
    "\n",
    "print(\"The amount to be received after 3 years is $%.2f\" %deposit)"
   ]
  },
  {
   "cell_type": "markdown",
   "id": "26fa3444",
   "metadata": {},
   "source": [
    "Create a program that reads two integers, a and b, from the user. Your program should\n",
    "compute and display:\n",
    "• The sum of a and b\n",
    "• The difference when b is subtracted from a\n",
    "• The product of a and b\n",
    "• The quotient when a is divided by b\n",
    "• The remainder when a is divided by b\n",
    "• The result of log10 a\n",
    "• The result of a b"
   ]
  },
  {
   "cell_type": "code",
   "execution_count": 10,
   "id": "2c61073f",
   "metadata": {},
   "outputs": [
    {
     "name": "stdout",
     "output_type": "stream",
     "text": [
      "1.1139433523068367\n"
     ]
    }
   ],
   "source": [
    "import math\n",
    "\n",
    "class Math:\n",
    "\n",
    "    def __init__(self, a, b):\n",
    "        self.a = a\n",
    "        self.b = b\n",
    "\n",
    "    def sum(self):\n",
    "        return self.a + self.b\n",
    "\n",
    "    def difference(self):\n",
    "        return self.a - self.b\n",
    "\n",
    "    def product(self):\n",
    "        return self.a * self.b\n",
    "\n",
    "    def quotient(self):\n",
    "        return self.a/self.b\n",
    "\n",
    "    def remainder(self):\n",
    "        return self.a%self.b\n",
    "\n",
    "    def log(self):\n",
    "        return math.log10(self.a)\n",
    "\n",
    "    def power(self):\n",
    "        return self.a**self.b\n",
    "\n",
    "\n",
    "mth = Math(13, 5)\n",
    "print(mth.log())\n"
   ]
  },
  {
   "cell_type": "markdown",
   "id": "1e23f3c9",
   "metadata": {},
   "source": [
    "In the United States, fuel efficiency for vehicles is normally expressed in miles-per-\n",
    "gallon (MPG). In Canada, fuel efficiency is normally expressed in liters-per-hundred\n",
    "kilometers (L/100 km). Use your research skills to determine how to convert from\n",
    "MPG to L/100 km. Then create a program that reads a value from the user in American\n",
    "units and displays the equivalent fuel efficiency in Canadian units."
   ]
  },
  {
   "cell_type": "code",
   "execution_count": 15,
   "id": "0db50913",
   "metadata": {},
   "outputs": [
    {
     "name": "stdout",
     "output_type": "stream",
     "text": [
      "Your car's fuel efficiency from MPG to liters-per-hundred kilometers (L/100 km) is 141128.75(L/100 km)\n"
     ]
    }
   ],
   "source": [
    "\n",
    "class FuelEfficiency:\n",
    "\n",
    "    def __init__(self, miles):\n",
    "        self.miles = miles\n",
    "        self.mpg_to_lpg = 235.214583\n",
    "\n",
    "\n",
    "    def convert(self):\n",
    "        return self.miles * self.mpg_to_lpg\n",
    "\n",
    "    def output(self):\n",
    "        print(\"Your car's fuel efficiency from MPG to liters-per-hundred kilometers (L/100 km) is %.2f(L/100 km)\" %self.convert())\n",
    "\n",
    "\n",
    "fe = FuelEfficiency(600)\n",
    "fe.convert()\n",
    "fe.output()\n",
    "\n"
   ]
  },
  {
   "cell_type": "code",
   "execution_count": null,
   "id": "6ca150d9",
   "metadata": {},
   "outputs": [],
   "source": []
  }
 ],
 "metadata": {
  "interpreter": {
   "hash": "916dbcbb3f70747c44a77c7bcd40155683ae19c65e1c03b4aa3499c5328201f1"
  },
  "kernelspec": {
   "display_name": "Python 3.10.4 64-bit",
   "language": "python",
   "name": "python3"
  },
  "language_info": {
   "codemirror_mode": {
    "name": "ipython",
    "version": 3
   },
   "file_extension": ".py",
   "mimetype": "text/x-python",
   "name": "python",
   "nbconvert_exporter": "python",
   "pygments_lexer": "ipython3",
   "version": "3.10.4"
  }
 },
 "nbformat": 4,
 "nbformat_minor": 5
}
